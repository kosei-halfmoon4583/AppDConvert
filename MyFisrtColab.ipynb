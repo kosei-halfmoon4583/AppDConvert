{
  "nbformat": 4,
  "nbformat_minor": 0,
  "metadata": {
    "colab": {
      "provenance": [],
      "include_colab_link": true
    },
    "kernelspec": {
      "name": "python3",
      "display_name": "Python 3"
    },
    "accelerator": "GPU"
  },
  "cells": [
    {
      "cell_type": "markdown",
      "metadata": {
        "id": "view-in-github",
        "colab_type": "text"
      },
      "source": [
        "<a href=\"https://colab.research.google.com/github/kosei-halfmoon4583/AppDConvert/blob/master/MyFisrtColab.ipynb\" target=\"_parent\"><img src=\"https://colab.research.google.com/assets/colab-badge.svg\" alt=\"Open In Colab\"/></a>"
      ]
    },
    {
      "metadata": {
        "id": "DGS6gP9JR252"
      },
      "cell_type": "code",
      "source": [
        "import torch"
      ],
      "execution_count": 3,
      "outputs": []
    },
    {
      "metadata": {
        "id": "21lWzuwbR5Ec"
      },
      "cell_type": "code",
      "source": [
        "import torch.nn as nn"
      ],
      "execution_count": 4,
      "outputs": []
    },
    {
      "metadata": {
        "id": "nMBovtWQSwCc"
      },
      "cell_type": "code",
      "source": [
        "# 3ノード　→ 2ノードの全結合層（fully-connected layer)\n",
        "fc = nn.Linear(3, 2)"
      ],
      "execution_count": 5,
      "outputs": []
    },
    {
      "cell_type": "code",
      "source": [
        "fc"
      ],
      "metadata": {
        "colab": {
          "base_uri": "https://localhost:8080/"
        },
        "id": "iCnS8n01jX8d",
        "outputId": "8bbdd848-9167-444e-a418-43f4410b2729"
      },
      "execution_count": 6,
      "outputs": [
        {
          "output_type": "execute_result",
          "data": {
            "text/plain": [
              "Linear(in_features=3, out_features=2, bias=True)"
            ]
          },
          "metadata": {},
          "execution_count": 6
        }
      ]
    },
    {
      "cell_type": "code",
      "source": [
        "fc.weight"
      ],
      "metadata": {
        "colab": {
          "base_uri": "https://localhost:8080/"
        },
        "id": "nc1E7SzmjhC2",
        "outputId": "ba0d975e-df86-47b5-f9c7-338505c33413"
      },
      "execution_count": 7,
      "outputs": [
        {
          "output_type": "execute_result",
          "data": {
            "text/plain": [
              "Parameter containing:\n",
              "tensor([[ 0.4005,  0.4818, -0.5126],\n",
              "        [-0.4608, -0.1940,  0.3100]], requires_grad=True)"
            ]
          },
          "metadata": {},
          "execution_count": 7
        }
      ]
    },
    {
      "cell_type": "code",
      "source": [
        "fc.bias"
      ],
      "metadata": {
        "colab": {
          "base_uri": "https://localhost:8080/"
        },
        "id": "J284ApJOjwQU",
        "outputId": "360b365b-6cef-4b71-92ba-ca5382f6089c"
      },
      "execution_count": 8,
      "outputs": [
        {
          "output_type": "execute_result",
          "data": {
            "text/plain": [
              "Parameter containing:\n",
              "tensor([0.3834, 0.5345], requires_grad=True)"
            ]
          },
          "metadata": {},
          "execution_count": 8
        }
      ]
    },
    {
      "cell_type": "code",
      "source": [
        "# 乱数のシードを固定\n",
        "torch.manual_seed(0)"
      ],
      "metadata": {
        "colab": {
          "base_uri": "https://localhost:8080/"
        },
        "id": "5OpiWhq9jzKs",
        "outputId": "2998cc74-a36a-4cd6-bc11-a23353850dae"
      },
      "execution_count": 9,
      "outputs": [
        {
          "output_type": "execute_result",
          "data": {
            "text/plain": [
              "<torch._C.Generator at 0x7efba8c41dd0>"
            ]
          },
          "metadata": {},
          "execution_count": 9
        }
      ]
    },
    {
      "cell_type": "code",
      "source": [
        "fc = nn.Linear(3, 2)"
      ],
      "metadata": {
        "id": "aHZMVZl8kUOA"
      },
      "execution_count": 10,
      "outputs": []
    },
    {
      "cell_type": "code",
      "source": [
        "fc.weight"
      ],
      "metadata": {
        "colab": {
          "base_uri": "https://localhost:8080/"
        },
        "id": "4zUgbC7hkdTN",
        "outputId": "dbf04e56-6bf0-4f5e-dfb6-20ccb9c972a6"
      },
      "execution_count": 11,
      "outputs": [
        {
          "output_type": "execute_result",
          "data": {
            "text/plain": [
              "Parameter containing:\n",
              "tensor([[-0.0043,  0.3097, -0.4752],\n",
              "        [-0.4249, -0.2224,  0.1548]], requires_grad=True)"
            ]
          },
          "metadata": {},
          "execution_count": 11
        }
      ]
    },
    {
      "cell_type": "code",
      "source": [
        "fc.bias"
      ],
      "metadata": {
        "colab": {
          "base_uri": "https://localhost:8080/"
        },
        "id": "hd8A4w8Wkgha",
        "outputId": "a67573f8-85cf-4f10-8473-a74350170fb3"
      },
      "execution_count": 12,
      "outputs": [
        {
          "output_type": "execute_result",
          "data": {
            "text/plain": [
              "Parameter containing:\n",
              "tensor([-0.0114,  0.4578], requires_grad=True)"
            ]
          },
          "metadata": {},
          "execution_count": 12
        }
      ]
    },
    {
      "cell_type": "code",
      "source": [
        "torch.__version__"
      ],
      "metadata": {
        "colab": {
          "base_uri": "https://localhost:8080/",
          "height": 35
        },
        "id": "EibD0dXHkllq",
        "outputId": "30612dc0-51ac-4da4-ade8-4a80040792b8"
      },
      "execution_count": 13,
      "outputs": [
        {
          "output_type": "execute_result",
          "data": {
            "text/plain": [
              "'1.13.0+cu116'"
            ],
            "application/vnd.google.colaboratory.intrinsic+json": {
              "type": "string"
            }
          },
          "metadata": {},
          "execution_count": 13
        }
      ]
    },
    {
      "cell_type": "markdown",
      "source": [
        "*線形変換*\n",
        "- データ型をテンソル型に変える"
      ],
      "metadata": {
        "id": "V3-6jhdxkvsK"
      }
    },
    {
      "cell_type": "code",
      "source": [
        "x = torch.tensor([[1., 2., 3.,]])"
      ],
      "metadata": {
        "id": "oPoyf7nHlAw7"
      },
      "execution_count": 14,
      "outputs": []
    },
    {
      "cell_type": "code",
      "source": [
        "type(x), x.dtype"
      ],
      "metadata": {
        "colab": {
          "base_uri": "https://localhost:8080/"
        },
        "id": "NTGoaHdglqhf",
        "outputId": "023a22af-ec66-4f3a-ed02-8d4ccb1962e1"
      },
      "execution_count": 15,
      "outputs": [
        {
          "output_type": "execute_result",
          "data": {
            "text/plain": [
              "(torch.Tensor, torch.float32)"
            ]
          },
          "metadata": {},
          "execution_count": 15
        }
      ]
    },
    {
      "cell_type": "code",
      "source": [
        "# 線形変換の計算\n",
        "u = fc(x)"
      ],
      "metadata": {
        "id": "sPSaYVt_luen"
      },
      "execution_count": 16,
      "outputs": []
    },
    {
      "cell_type": "code",
      "source": [
        "u"
      ],
      "metadata": {
        "colab": {
          "base_uri": "https://localhost:8080/"
        },
        "id": "9sJyg0Tzl9br",
        "outputId": "25fe4ca5-f2bb-4fdb-aa1e-dec9e0ffc7d3"
      },
      "execution_count": 17,
      "outputs": [
        {
          "output_type": "execute_result",
          "data": {
            "text/plain": [
              "tensor([[-0.8219,  0.0526]], grad_fn=<AddmmBackward0>)"
            ]
          },
          "metadata": {},
          "execution_count": 17
        }
      ]
    },
    {
      "cell_type": "code",
      "source": [
        "# 非線形変換の計算\n",
        "import torch.nn.functional as F"
      ],
      "metadata": {
        "id": "xYlSvs_zl-cc"
      },
      "execution_count": 18,
      "outputs": []
    },
    {
      "cell_type": "code",
      "source": [
        "# ReLU関数\n",
        "h = F.relu(u)"
      ],
      "metadata": {
        "id": "XOmnqWcimQfN"
      },
      "execution_count": 19,
      "outputs": []
    },
    {
      "cell_type": "code",
      "source": [
        "h"
      ],
      "metadata": {
        "colab": {
          "base_uri": "https://localhost:8080/"
        },
        "id": "ZtLLBUUdmgXc",
        "outputId": "3667c0c1-5663-4630-a7d2-4ce78544a727"
      },
      "execution_count": 20,
      "outputs": [
        {
          "output_type": "execute_result",
          "data": {
            "text/plain": [
              "tensor([[0.0000, 0.0526]], grad_fn=<ReluBackward0>)"
            ]
          },
          "metadata": {},
          "execution_count": 20
        }
      ]
    },
    {
      "cell_type": "code",
      "source": [
        "# ReLU関数\n",
        "# h = f(u) = max(0, u) [*0かuのどちらか大きい値を採用する]"
      ],
      "metadata": {
        "id": "3NcYrqnEmiEe"
      },
      "execution_count": 21,
      "outputs": []
    },
    {
      "cell_type": "code",
      "source": [
        "# 目的関数\n",
        "# 目標値\n",
        "t = torch.tensor([[1.], [3.]])"
      ],
      "metadata": {
        "id": "yzZERsUD6J08"
      },
      "execution_count": 22,
      "outputs": []
    },
    {
      "cell_type": "code",
      "source": [
        "# 予測値\n",
        "y = torch.tensor([[2.], [4.]])"
      ],
      "metadata": {
        "id": "Dy4NZA466jPk"
      },
      "execution_count": 23,
      "outputs": []
    },
    {
      "cell_type": "code",
      "source": [
        "# 平均二乗誤差の算出\n",
        "F.mse_loss(y, t)"
      ],
      "metadata": {
        "colab": {
          "base_uri": "https://localhost:8080/"
        },
        "id": "y-Ph064H7b3j",
        "outputId": "dc78a4dd-708b-497a-960f-05e3b795006e"
      },
      "execution_count": 24,
      "outputs": [
        {
          "output_type": "execute_result",
          "data": {
            "text/plain": [
              "tensor(1.)"
            ]
          },
          "metadata": {},
          "execution_count": 24
        }
      ]
    },
    {
      "cell_type": "code",
      "source": [],
      "metadata": {
        "id": "b9i0iZRY7k7e"
      },
      "execution_count": null,
      "outputs": []
    }
  ]
}